{
 "cells": [
  {
   "cell_type": "code",
   "execution_count": 1,
   "id": "twelve-fellow",
   "metadata": {},
   "outputs": [],
   "source": [
    "from pyspark import SparkContext\n",
    "from pyspark.sql import SparkSession\n",
    "from pyspark.sql.functions import count, desc, col, max\n",
    "import pyspark.sql.functions as f"
   ]
  },
  {
   "cell_type": "code",
   "execution_count": 2,
   "id": "fiscal-fight",
   "metadata": {},
   "outputs": [],
   "source": [
    "spark = SparkSession.builder.appName('spark_app').getOrCreate()"
   ]
  },
  {
   "cell_type": "code",
   "execution_count": 3,
   "id": "corresponding-edinburgh",
   "metadata": {},
   "outputs": [],
   "source": [
    "tweets_csv_path = 'training.1600000.processed.noemoticon.csv'\n",
    "tweets_df = spark.read.format('csv').option('inferSchema',True).option('header',False).load(tweets_csv_path)\n",
    "tweets_rdd = spark.sparkContext.textFile(tweets_csv_path)"
   ]
  },
  {
   "cell_type": "markdown",
   "id": "needed-button",
   "metadata": {},
   "source": [
    "# **RDD**"
   ]
  },
  {
   "cell_type": "markdown",
   "id": "equivalent-hindu",
   "metadata": {},
   "source": [
    "## **First 20 records**"
   ]
  },
  {
   "cell_type": "code",
   "execution_count": 4,
   "id": "other-profession",
   "metadata": {},
   "outputs": [
    {
     "data": {
      "text/plain": [
       "['\"0\",\"1467810369\",\"Mon Apr 06 22:19:45 PDT 2009\",\"NO_QUERY\",\"_TheSpecialOne_\",\"@switchfoot http://twitpic.com/2y1zl - Awww, that\\'s a bummer.  You shoulda got David Carr of Third Day to do it. ;D\"',\n",
       " '\"0\",\"1467810672\",\"Mon Apr 06 22:19:49 PDT 2009\",\"NO_QUERY\",\"scotthamilton\",\"is upset that he can\\'t update his Facebook by texting it... and might cry as a result  School today also. Blah!\"',\n",
       " '\"0\",\"1467810917\",\"Mon Apr 06 22:19:53 PDT 2009\",\"NO_QUERY\",\"mattycus\",\"@Kenichan I dived many times for the ball. Managed to save 50%  The rest go out of bounds\"',\n",
       " '\"0\",\"1467811184\",\"Mon Apr 06 22:19:57 PDT 2009\",\"NO_QUERY\",\"ElleCTF\",\"my whole body feels itchy and like its on fire \"',\n",
       " '\"0\",\"1467811193\",\"Mon Apr 06 22:19:57 PDT 2009\",\"NO_QUERY\",\"Karoli\",\"@nationwideclass no, it\\'s not behaving at all. i\\'m mad. why am i here? because I can\\'t see you all over there. \"',\n",
       " '\"0\",\"1467811372\",\"Mon Apr 06 22:20:00 PDT 2009\",\"NO_QUERY\",\"joy_wolf\",\"@Kwesidei not the whole crew \"',\n",
       " '\"0\",\"1467811592\",\"Mon Apr 06 22:20:03 PDT 2009\",\"NO_QUERY\",\"mybirch\",\"Need a hug \"',\n",
       " '\"0\",\"1467811594\",\"Mon Apr 06 22:20:03 PDT 2009\",\"NO_QUERY\",\"coZZ\",\"@LOLTrish hey  long time no see! Yes.. Rains a bit ,only a bit  LOL , I\\'m fine thanks , how\\'s you ?\"',\n",
       " '\"0\",\"1467811795\",\"Mon Apr 06 22:20:05 PDT 2009\",\"NO_QUERY\",\"2Hood4Hollywood\",\"@Tatiana_K nope they didn\\'t have it \"',\n",
       " '\"0\",\"1467812025\",\"Mon Apr 06 22:20:09 PDT 2009\",\"NO_QUERY\",\"mimismo\",\"@twittera que me muera ? \"',\n",
       " '\"0\",\"1467812416\",\"Mon Apr 06 22:20:16 PDT 2009\",\"NO_QUERY\",\"erinx3leannexo\",\"spring break in plain city... it\\'s snowing \"',\n",
       " '\"0\",\"1467812579\",\"Mon Apr 06 22:20:17 PDT 2009\",\"NO_QUERY\",\"pardonlauren\",\"I just re-pierced my ears \"',\n",
       " '\"0\",\"1467812723\",\"Mon Apr 06 22:20:19 PDT 2009\",\"NO_QUERY\",\"TLeC\",\"@caregiving I couldn\\'t bear to watch it.  And I thought the UA loss was embarrassing . . . . .\"',\n",
       " '\"0\",\"1467812771\",\"Mon Apr 06 22:20:19 PDT 2009\",\"NO_QUERY\",\"robrobbierobert\",\"@octolinz16 It it counts, idk why I did either. you never talk to me anymore \"',\n",
       " '\"0\",\"1467812784\",\"Mon Apr 06 22:20:20 PDT 2009\",\"NO_QUERY\",\"bayofwolves\",\"@smarrison i would\\'ve been the first, but i didn\\'t have a gun.    not really though, zac snyder\\'s just a doucheclown.\"',\n",
       " '\"0\",\"1467812799\",\"Mon Apr 06 22:20:20 PDT 2009\",\"NO_QUERY\",\"HairByJess\",\"@iamjazzyfizzle I wish I got to watch it with you!! I miss you and @iamlilnicki  how was the premiere?!\"',\n",
       " '\"0\",\"1467812964\",\"Mon Apr 06 22:20:22 PDT 2009\",\"NO_QUERY\",\"lovesongwriter\",\"Hollis\\' death scene will hurt me severely to watch on film  wry is directors cut not out now?\"',\n",
       " '\"0\",\"1467813137\",\"Mon Apr 06 22:20:25 PDT 2009\",\"NO_QUERY\",\"armotley\",\"about to file taxes \"',\n",
       " '\"0\",\"1467813579\",\"Mon Apr 06 22:20:31 PDT 2009\",\"NO_QUERY\",\"starkissed\",\"@LettyA ahh ive always wanted to see rent  love the soundtrack!!\"',\n",
       " '\"0\",\"1467813782\",\"Mon Apr 06 22:20:34 PDT 2009\",\"NO_QUERY\",\"gi_gi_bee\",\"@FakerPattyPattz Oh dear. Were you drinking out of the forgotten table drinks? \"']"
      ]
     },
     "execution_count": 4,
     "metadata": {},
     "output_type": "execute_result"
    }
   ],
   "source": [
    "tweets_rdd.take(20)"
   ]
  },
  {
   "cell_type": "markdown",
   "id": "proof-shore",
   "metadata": {},
   "source": [
    "## **Numbers of words in all tweet**"
   ]
  },
  {
   "cell_type": "code",
   "execution_count": 5,
   "id": "necessary-operator",
   "metadata": {},
   "outputs": [],
   "source": [
    "import re\n",
    "class utils():\n",
    "    COMMA_DELIMITER = re.compile(''',(?=(?:[^\"]*\"[^\"]*\")*[^\"]*$)''')"
   ]
  },
  {
   "cell_type": "code",
   "execution_count": 6,
   "id": "official-business",
   "metadata": {},
   "outputs": [
    {
     "data": {
      "text/plain": [
       "23011409"
      ]
     },
     "execution_count": 6,
     "metadata": {},
     "output_type": "execute_result"
    }
   ],
   "source": [
    "Words = tweets_rdd.map(lambda x: utils.COMMA_DELIMITER.split(x)[5]).flatMap(lambda y: y.split(' ')).count()\n",
    "Words"
   ]
  },
  {
   "cell_type": "markdown",
   "id": "tested-wheel",
   "metadata": {},
   "source": [
    "## **Numbers of unique words in all tweet**"
   ]
  },
  {
   "cell_type": "code",
   "execution_count": 7,
   "id": "sized-session",
   "metadata": {},
   "outputs": [
    {
     "data": {
      "text/plain": [
       "1479574"
      ]
     },
     "execution_count": 7,
     "metadata": {},
     "output_type": "execute_result"
    }
   ],
   "source": [
    "len(tweets_rdd.map(lambda x: utils.COMMA_DELIMITER.split(x)[5]).flatMap(lambda y: y.split(' ')).countByValue())"
   ]
  },
  {
   "cell_type": "code",
   "execution_count": 8,
   "id": "built-church",
   "metadata": {},
   "outputs": [
    {
     "data": {
      "text/plain": [
       "1479574"
      ]
     },
     "execution_count": 8,
     "metadata": {},
     "output_type": "execute_result"
    }
   ],
   "source": [
    "unique_words = tweets_rdd.map(lambda x: utils.COMMA_DELIMITER.split(x)[5]).flatMap(lambda y: y.split(' ')).distinct().count()\n",
    "unique_words"
   ]
  },
  {
   "cell_type": "markdown",
   "id": "studied-january",
   "metadata": {},
   "source": [
    "# **Data frame**"
   ]
  },
  {
   "cell_type": "code",
   "execution_count": 9,
   "id": "athletic-delay",
   "metadata": {},
   "outputs": [],
   "source": [
    "tweets_df = tweets_df.withColumnRenamed(\"_c0\", \"target\")\n",
    "tweets_df = tweets_df.withColumnRenamed(\"_c1\", \"ids\")\n",
    "tweets_df = tweets_df.withColumnRenamed(\"_c2\", \"date\")\n",
    "tweets_df = tweets_df.withColumnRenamed(\"_c3\", \"flag\")\n",
    "tweets_df = tweets_df.withColumnRenamed(\"_c4\", \"user\")\n",
    "tweets_df = tweets_df.withColumnRenamed(\"_c5\", \"text\")"
   ]
  },
  {
   "cell_type": "markdown",
   "id": "wooden-memorial",
   "metadata": {},
   "source": [
    "# **First 20 records**"
   ]
  },
  {
   "cell_type": "code",
   "execution_count": 10,
   "id": "hidden-hearts",
   "metadata": {},
   "outputs": [
    {
     "name": "stdout",
     "output_type": "stream",
     "text": [
      "+------+----------+--------------------+--------+---------------+--------------------+\n",
      "|target|       ids|                date|    flag|           user|                text|\n",
      "+------+----------+--------------------+--------+---------------+--------------------+\n",
      "|     0|1467810369|Mon Apr 06 22:19:...|NO_QUERY|_TheSpecialOne_|@switchfoot http:...|\n",
      "|     0|1467810672|Mon Apr 06 22:19:...|NO_QUERY|  scotthamilton|is upset that he ...|\n",
      "|     0|1467810917|Mon Apr 06 22:19:...|NO_QUERY|       mattycus|@Kenichan I dived...|\n",
      "|     0|1467811184|Mon Apr 06 22:19:...|NO_QUERY|        ElleCTF|my whole body fee...|\n",
      "|     0|1467811193|Mon Apr 06 22:19:...|NO_QUERY|         Karoli|@nationwideclass ...|\n",
      "|     0|1467811372|Mon Apr 06 22:20:...|NO_QUERY|       joy_wolf|@Kwesidei not the...|\n",
      "|     0|1467811592|Mon Apr 06 22:20:...|NO_QUERY|        mybirch|         Need a hug |\n",
      "|     0|1467811594|Mon Apr 06 22:20:...|NO_QUERY|           coZZ|@LOLTrish hey  lo...|\n",
      "|     0|1467811795|Mon Apr 06 22:20:...|NO_QUERY|2Hood4Hollywood|@Tatiana_K nope t...|\n",
      "|     0|1467812025|Mon Apr 06 22:20:...|NO_QUERY|        mimismo|@twittera que me ...|\n",
      "|     0|1467812416|Mon Apr 06 22:20:...|NO_QUERY| erinx3leannexo|spring break in p...|\n",
      "|     0|1467812579|Mon Apr 06 22:20:...|NO_QUERY|   pardonlauren|I just re-pierced...|\n",
      "|     0|1467812723|Mon Apr 06 22:20:...|NO_QUERY|           TLeC|@caregiving I cou...|\n",
      "|     0|1467812771|Mon Apr 06 22:20:...|NO_QUERY|robrobbierobert|@octolinz16 It it...|\n",
      "|     0|1467812784|Mon Apr 06 22:20:...|NO_QUERY|    bayofwolves|@smarrison i woul...|\n",
      "|     0|1467812799|Mon Apr 06 22:20:...|NO_QUERY|     HairByJess|@iamjazzyfizzle I...|\n",
      "|     0|1467812964|Mon Apr 06 22:20:...|NO_QUERY| lovesongwriter|Hollis' death sce...|\n",
      "|     0|1467813137|Mon Apr 06 22:20:...|NO_QUERY|       armotley|about to file taxes |\n",
      "|     0|1467813579|Mon Apr 06 22:20:...|NO_QUERY|     starkissed|@LettyA ahh ive a...|\n",
      "|     0|1467813782|Mon Apr 06 22:20:...|NO_QUERY|      gi_gi_bee|@FakerPattyPattz ...|\n",
      "+------+----------+--------------------+--------+---------------+--------------------+\n",
      "only showing top 20 rows\n",
      "\n"
     ]
    }
   ],
   "source": [
    "tweets_df.show(20)"
   ]
  },
  {
   "cell_type": "markdown",
   "id": "czech-upgrade",
   "metadata": {},
   "source": [
    "### **Number of words in each tweet**"
   ]
  },
  {
   "cell_type": "code",
   "execution_count": 11,
   "id": "theoretical-married",
   "metadata": {},
   "outputs": [
    {
     "name": "stdout",
     "output_type": "stream",
     "text": [
      "+------+----------+--------------------+--------+---------------+--------------------+---------+\n",
      "|target|       ids|                date|    flag|           user|                text|wordCount|\n",
      "+------+----------+--------------------+--------+---------------+--------------------+---------+\n",
      "|     0|1467810369|Mon Apr 06 22:19:...|NO_QUERY|_TheSpecialOne_|@switchfoot http:...|       20|\n",
      "|     0|1467810672|Mon Apr 06 22:19:...|NO_QUERY|  scotthamilton|is upset that he ...|       22|\n",
      "|     0|1467810917|Mon Apr 06 22:19:...|NO_QUERY|       mattycus|@Kenichan I dived...|       19|\n",
      "|     0|1467811184|Mon Apr 06 22:19:...|NO_QUERY|        ElleCTF|my whole body fee...|       11|\n",
      "|     0|1467811193|Mon Apr 06 22:19:...|NO_QUERY|         Karoli|@nationwideclass ...|       22|\n",
      "|     0|1467811372|Mon Apr 06 22:20:...|NO_QUERY|       joy_wolf|@Kwesidei not the...|        6|\n",
      "|     0|1467811592|Mon Apr 06 22:20:...|NO_QUERY|        mybirch|         Need a hug |        4|\n",
      "|     0|1467811594|Mon Apr 06 22:20:...|NO_QUERY|           coZZ|@LOLTrish hey  lo...|       24|\n",
      "|     0|1467811795|Mon Apr 06 22:20:...|NO_QUERY|2Hood4Hollywood|@Tatiana_K nope t...|        7|\n",
      "|     0|1467812025|Mon Apr 06 22:20:...|NO_QUERY|        mimismo|@twittera que me ...|        6|\n",
      "|     0|1467812416|Mon Apr 06 22:20:...|NO_QUERY| erinx3leannexo|spring break in p...|        8|\n",
      "|     0|1467812579|Mon Apr 06 22:20:...|NO_QUERY|   pardonlauren|I just re-pierced...|        6|\n",
      "|     0|1467812723|Mon Apr 06 22:20:...|NO_QUERY|           TLeC|@caregiving I cou...|       21|\n",
      "|     0|1467812771|Mon Apr 06 22:20:...|NO_QUERY|robrobbierobert|@octolinz16 It it...|       16|\n",
      "|     0|1467812784|Mon Apr 06 22:20:...|NO_QUERY|    bayofwolves|@smarrison i woul...|       23|\n",
      "|     0|1467812799|Mon Apr 06 22:20:...|NO_QUERY|     HairByJess|@iamjazzyfizzle I...|       20|\n",
      "|     0|1467812964|Mon Apr 06 22:20:...|NO_QUERY| lovesongwriter|Hollis' death sce...|       19|\n",
      "|     0|1467813137|Mon Apr 06 22:20:...|NO_QUERY|       armotley|about to file taxes |        5|\n",
      "|     0|1467813579|Mon Apr 06 22:20:...|NO_QUERY|     starkissed|@LettyA ahh ive a...|       12|\n",
      "|     0|1467813782|Mon Apr 06 22:20:...|NO_QUERY|      gi_gi_bee|@FakerPattyPattz ...|       13|\n",
      "+------+----------+--------------------+--------+---------------+--------------------+---------+\n",
      "only showing top 20 rows\n",
      "\n"
     ]
    }
   ],
   "source": [
    "tweets_df.withColumn('wordCount', f.size(f.split(f.col('text'), ' '))).show()"
   ]
  },
  {
   "cell_type": "markdown",
   "id": "surprising-network",
   "metadata": {},
   "source": [
    "# **Number of words in all tweets**"
   ]
  },
  {
   "cell_type": "code",
   "execution_count": 12,
   "id": "satellite-contract",
   "metadata": {},
   "outputs": [
    {
     "name": "stdout",
     "output_type": "stream",
     "text": [
      "+--------------+\n",
      "|sum(wordCount)|\n",
      "+--------------+\n",
      "|      23011409|\n",
      "+--------------+\n",
      "\n"
     ]
    }
   ],
   "source": [
    "tweets_df.withColumn('wordCount', f.size(f.split(f.col('text'), ' '))).select(f.sum('wordCount')).show()"
   ]
  },
  {
   "cell_type": "markdown",
   "id": "skilled-geometry",
   "metadata": {},
   "source": [
    "### **Frequency of each word**"
   ]
  },
  {
   "cell_type": "code",
   "execution_count": 13,
   "id": "underlying-block",
   "metadata": {
    "scrolled": false
   },
   "outputs": [
    {
     "name": "stdout",
     "output_type": "stream",
     "text": [
      "+----+-------+\n",
      "|word|  count|\n",
      "+----+-------+\n",
      "|    |1930617|\n",
      "|  to| 552962|\n",
      "|   I| 496608|\n",
      "| the| 487500|\n",
      "|   a| 366212|\n",
      "|  my| 280025|\n",
      "| and| 275263|\n",
      "|   i| 249975|\n",
      "|  is| 217692|\n",
      "| you| 213871|\n",
      "| for| 209800|\n",
      "|  in| 202294|\n",
      "|  of| 179554|\n",
      "|  it| 171810|\n",
      "|  on| 154365|\n",
      "|have| 132249|\n",
      "|  so| 125154|\n",
      "|  me| 122509|\n",
      "|that| 118684|\n",
      "|with| 110843|\n",
      "+----+-------+\n",
      "only showing top 20 rows\n",
      "\n"
     ]
    }
   ],
   "source": [
    "tweets_df.withColumn('word',f.explode(f.split(f.col('text'), ' '))).groupby('word').count().orderBy(desc(count('*'))).show()"
   ]
  },
  {
   "cell_type": "markdown",
   "id": "voluntary-ceramic",
   "metadata": {},
   "source": [
    "# **Number of unique words**"
   ]
  },
  {
   "cell_type": "code",
   "execution_count": 14,
   "id": "casual-houston",
   "metadata": {},
   "outputs": [
    {
     "data": {
      "text/plain": [
       "1350484"
      ]
     },
     "execution_count": 14,
     "metadata": {},
     "output_type": "execute_result"
    }
   ],
   "source": [
    "tweets_df.withColumn('word',f.explode(f.split(f.col('text'), ' '))).groupby('word').agg(count('*').alias('count')).count()"
   ]
  },
  {
   "cell_type": "markdown",
   "id": "confident-generator",
   "metadata": {},
   "source": [
    "# **Users with the most posts**"
   ]
  },
  {
   "cell_type": "code",
   "execution_count": 15,
   "id": "indie-visit",
   "metadata": {
    "scrolled": false
   },
   "outputs": [
    {
     "name": "stdout",
     "output_type": "stream",
     "text": [
      "+---------------+-----+\n",
      "|           user|count|\n",
      "+---------------+-----+\n",
      "|       lost_dog|  549|\n",
      "|        webwoke|  345|\n",
      "|       tweetpet|  310|\n",
      "|SallytheShizzle|  281|\n",
      "|    VioletsCRUK|  279|\n",
      "|    mcraddictal|  276|\n",
      "|       tsarnick|  248|\n",
      "|    what_bugs_u|  246|\n",
      "|    Karen230683|  238|\n",
      "|      DarkPiano|  236|\n",
      "|   SongoftheOss|  227|\n",
      "|      Jayme1988|  225|\n",
      "|         keza34|  219|\n",
      "| ramdomthoughts|  216|\n",
      "|      shanajaca|  213|\n",
      "|         wowlew|  212|\n",
      "|     nuttychris|  211|\n",
      "|   TraceyHewins|  211|\n",
      "|   thisgoeshere|  207|\n",
      "|     Spidersamm|  205|\n",
      "+---------------+-----+\n",
      "\n"
     ]
    }
   ],
   "source": [
    "q4 = tweets_df.select('user').groupby('user').agg(count('*').alias('count')).orderBy(desc('count')).limit(20)\n",
    "q4.show()"
   ]
  },
  {
   "cell_type": "markdown",
   "id": "atlantic-prior",
   "metadata": {},
   "source": [
    "### **Number of words in each tweet**"
   ]
  },
  {
   "cell_type": "code",
   "execution_count": 16,
   "id": "hearing-france",
   "metadata": {},
   "outputs": [
    {
     "name": "stdout",
     "output_type": "stream",
     "text": [
      "+---------------+----------+\n",
      "|           user|word count|\n",
      "+---------------+----------+\n",
      "|_TheSpecialOne_|        20|\n",
      "|  scotthamilton|        22|\n",
      "|       mattycus|        19|\n",
      "|        ElleCTF|        11|\n",
      "|         Karoli|        22|\n",
      "|       joy_wolf|         6|\n",
      "|        mybirch|         4|\n",
      "|           coZZ|        24|\n",
      "|2Hood4Hollywood|         7|\n",
      "|        mimismo|         6|\n",
      "| erinx3leannexo|         8|\n",
      "|   pardonlauren|         6|\n",
      "|           TLeC|        21|\n",
      "|robrobbierobert|        16|\n",
      "|    bayofwolves|        23|\n",
      "|     HairByJess|        20|\n",
      "| lovesongwriter|        19|\n",
      "|       armotley|         5|\n",
      "|     starkissed|        12|\n",
      "|      gi_gi_bee|        13|\n",
      "+---------------+----------+\n",
      "only showing top 20 rows\n",
      "\n"
     ]
    }
   ],
   "source": [
    "q5_1 = tweets_df.withColumn('word count',f.size(f.split('text', ' '))).select('user','word count')\n",
    "q5_1.show()"
   ]
  },
  {
   "cell_type": "markdown",
   "id": "fourth-photography",
   "metadata": {},
   "source": [
    "# **Users with the most words**"
   ]
  },
  {
   "cell_type": "code",
   "execution_count": 17,
   "id": "hollywood-federal",
   "metadata": {},
   "outputs": [
    {
     "name": "stdout",
     "output_type": "stream",
     "text": [
      "+---------------+-----+\n",
      "|           user|words|\n",
      "+---------------+-----+\n",
      "|       lost_dog| 6588|\n",
      "|    what_bugs_u| 5177|\n",
      "|    VioletsCRUK| 5108|\n",
      "|SallytheShizzle| 4480|\n",
      "|      shanajaca| 3698|\n",
      "| felicityfuller| 3626|\n",
      "|   SongoftheOss| 3436|\n",
      "|          StDAY| 3341|\n",
      "|     nuttychris| 3309|\n",
      "| ramdomthoughts| 3229|\n",
      "|       tsarnick| 3170|\n",
      "|    mcraddictal| 3145|\n",
      "|     Spidersamm| 3028|\n",
      "|   JessMcFlyxxx| 2989|\n",
      "|   thisgoeshere| 2977|\n",
      "|    linnetwoods| 2928|\n",
      "|    Dutchrudder| 2897|\n",
      "|MTVnHollyWEST23| 2821|\n",
      "| JBnVFCLover786| 2785|\n",
      "|torilovesbradie| 2748|\n",
      "+---------------+-----+\n",
      "only showing top 20 rows\n",
      "\n"
     ]
    }
   ],
   "source": [
    "q5_2 = q5_1.select('user','word count').groupby('user').agg(f.sum('word count').alias('words')).orderBy(desc('words'))\n",
    "q5_2.show()"
   ]
  },
  {
   "cell_type": "markdown",
   "id": "controlled-estate",
   "metadata": {},
   "source": [
    "# **Users with the most mentions**"
   ]
  },
  {
   "cell_type": "code",
   "execution_count": 18,
   "id": "indie-shower",
   "metadata": {},
   "outputs": [
    {
     "name": "stdout",
     "output_type": "stream",
     "text": [
      "+----------------+-----+\n",
      "|            word|count|\n",
      "+----------------+-----+\n",
      "|     @mileycyrus| 4310|\n",
      "|       @tommcfly| 3837|\n",
      "|       @ddlovato| 3349|\n",
      "|  @Jonasbrothers| 1263|\n",
      "|    @DavidArchie| 1222|\n",
      "|   @jordanknight| 1105|\n",
      "| @DonnieWahlberg| 1085|\n",
      "|@JonathanRKnight| 1053|\n",
      "|   @mitchelmusso| 1038|\n",
      "|  @taylorswift13|  973|\n",
      "|  @jonasbrothers|  954|\n",
      "|    @selenagomez|  782|\n",
      "|    @dougiemcfly|  781|\n",
      "|         @aplusk|  606|\n",
      "| @peterfacinelli|  602|\n",
      "|   @joeymcintyre|  562|\n",
      "|    @gfalcone601|  539|\n",
      "|     @Dannymcfly|  538|\n",
      "|   @shaundiviney|  503|\n",
      "|         @YoungQ|  501|\n",
      "+----------------+-----+\n",
      "only showing top 20 rows\n",
      "\n"
     ]
    }
   ],
   "source": [
    "q6 = tweets_df.withColumn('word',f.explode(f.split(f.col('text'), ' '))).groupby('word')\\\n",
    ".count().filter(f.col('word').like('@%')).filter(f.col('word').like('@')==False).orderBy(desc('count'))\n",
    "q6.show()"
   ]
  },
  {
   "cell_type": "markdown",
   "id": "answering-wealth",
   "metadata": {},
   "source": [
    "# **most popular days for tweets**"
   ]
  },
  {
   "cell_type": "code",
   "execution_count": 19,
   "id": "related-binary",
   "metadata": {},
   "outputs": [
    {
     "name": "stdout",
     "output_type": "stream",
     "text": [
      "+---+------+\n",
      "|day| count|\n",
      "+---+------+\n",
      "|Sun|344555|\n",
      "|Sat|330955|\n",
      "|Mon|310205|\n",
      "|Fri|225594|\n",
      "|Tue|185850|\n",
      "|Thu|106035|\n",
      "|Wed| 96806|\n",
      "+---+------+\n",
      "\n"
     ]
    }
   ],
   "source": [
    "q7 = tweets_df.withColumn('day',f.regexp_extract(f.col('date'),'(\\w+)',0)).groupby('day').count().orderBy(desc('count'))\n",
    "q7.show()"
   ]
  },
  {
   "cell_type": "markdown",
   "id": "focused-fitting",
   "metadata": {},
   "source": [
    "# **most popular tweet hours**"
   ]
  },
  {
   "cell_type": "code",
   "execution_count": 20,
   "id": "tracked-preference",
   "metadata": {},
   "outputs": [
    {
     "name": "stdout",
     "output_type": "stream",
     "text": [
      "+----+-----+\n",
      "|hour|count|\n",
      "+----+-----+\n",
      "|  23|84750|\n",
      "|  07|83654|\n",
      "|  00|80865|\n",
      "|  06|80852|\n",
      "|  05|78623|\n",
      "|  22|78328|\n",
      "|  04|76995|\n",
      "|  08|76287|\n",
      "|  01|75268|\n",
      "|  03|74253|\n",
      "|  02|73991|\n",
      "|  21|68964|\n",
      "|  09|67278|\n",
      "|  11|61009|\n",
      "|  10|60689|\n",
      "|  19|57722|\n",
      "|  20|57059|\n",
      "|  16|55720|\n",
      "|  18|53485|\n",
      "|  17|51843|\n",
      "+----+-----+\n",
      "only showing top 20 rows\n",
      "\n"
     ]
    }
   ],
   "source": [
    "q8 = tweets_df.withColumn('hour',f.regexp_extract(f.col('date'),'(\\d+)(\\s)(\\d+)',3)).groupby('hour').count().orderBy(desc('count'))\n",
    "q8.show()"
   ]
  },
  {
   "cell_type": "markdown",
   "id": "sought-burst",
   "metadata": {},
   "source": [
    "# **Spark MLlib**  **Prediction model**"
   ]
  },
  {
   "cell_type": "code",
   "execution_count": 21,
   "id": "purple-syndrome",
   "metadata": {},
   "outputs": [],
   "source": [
    "FoodInspections=spark.read.format('csv').options(header='true').load('Food_Inspections.csv')"
   ]
  },
  {
   "cell_type": "code",
   "execution_count": 22,
   "id": "faced-traveler",
   "metadata": {},
   "outputs": [],
   "source": [
    "columns_to_drop=[\"AKA Name\",\"License #\",\"Facility Type\",\"Risk\",\"Address\",\\\n",
    "        \"City\",\"State\",\"Zip\",\"Inspection Date\",\"Inspection Type\",\"Latitude\",\"Longitude\",\"Location\"]\n",
    "FoodInspections=FoodInspections.drop(*columns_to_drop)"
   ]
  },
  {
   "cell_type": "code",
   "execution_count": 23,
   "id": "loved-request",
   "metadata": {},
   "outputs": [],
   "source": [
    "FoodInspections.registerTempTable('CountResults')"
   ]
  },
  {
   "cell_type": "code",
   "execution_count": 24,
   "id": "advance-ecuador",
   "metadata": {},
   "outputs": [
    {
     "name": "stdout",
     "output_type": "stream",
     "text": [
      "+-------------+--------------------+---------------+--------------------+\n",
      "|Inspection ID|            DBA Name|        Results|          Violations|\n",
      "+-------------+--------------------+---------------+--------------------+\n",
      "|      2492387|     GOLDY FAST FOOD|Out of Business|                null|\n",
      "|      2492376|    A LIL-ROC&RO INC|      Not Ready|                null|\n",
      "|      2492381|OMAR DISCOUNT CEN...|           Fail|5. PROCEDURES FOR...|\n",
      "|      2492409|BURGUR BOY LOUNGE...|           Fail|3. MANAGEMENT, FO...|\n",
      "|      2492325|        BEAT KITCHEN|           Pass|47. FOOD & NON-FO...|\n",
      "+-------------+--------------------+---------------+--------------------+\n",
      "only showing top 5 rows\n",
      "\n"
     ]
    }
   ],
   "source": [
    "FoodInspections.show(5)"
   ]
  },
  {
   "cell_type": "code",
   "execution_count": 25,
   "id": "discrete-desire",
   "metadata": {},
   "outputs": [
    {
     "name": "stdout",
     "output_type": "stream",
     "text": [
      "+--------------------+\n",
      "|             Results|\n",
      "+--------------------+\n",
      "|           Not Ready|\n",
      "|                Fail|\n",
      "|            No Entry|\n",
      "|Business Not Located|\n",
      "|  Pass w/ Conditions|\n",
      "|     Out of Business|\n",
      "|                Pass|\n",
      "+--------------------+\n",
      "\n"
     ]
    }
   ],
   "source": [
    "FoodInspections.select('Results').distinct().show()"
   ]
  },
  {
   "cell_type": "code",
   "execution_count": 26,
   "id": "south-effectiveness",
   "metadata": {},
   "outputs": [],
   "source": [
    "countResultsdf=spark.sql(\"SELECT COUNT(Results) AS cnt, Results FROM CountResults GROUP BY Results\").toPandas()"
   ]
  },
  {
   "cell_type": "code",
   "execution_count": 27,
   "id": "behind-brief",
   "metadata": {},
   "outputs": [
    {
     "name": "stdout",
     "output_type": "stream",
     "text": [
      "      cnt               Results\n",
      "0    2325             Not Ready\n",
      "1   41833                  Fail\n",
      "2    7497              No Entry\n",
      "3      72  Business Not Located\n",
      "4   32963    Pass w/ Conditions\n",
      "5   18859       Out of Business\n",
      "6  113462                  Pass\n"
     ]
    }
   ],
   "source": [
    "print(countResultsdf)"
   ]
  },
  {
   "cell_type": "code",
   "execution_count": 28,
   "id": "stylish-juice",
   "metadata": {},
   "outputs": [
    {
     "data": {
      "text/plain": [
       "(-1.109833043533388,\n",
       " 1.1004682401682566,\n",
       " -1.1080882133654468,\n",
       " 1.1098178829348857)"
      ]
     },
     "execution_count": 28,
     "metadata": {},
     "output_type": "execute_result"
    },
    {
     "data": {
      "image/png": "[encoded data removed]",
      "text/plain": [
       "<Figure size 432x288 with 1 Axes>"
      ]
     },
     "metadata": {},
     "output_type": "display_data"
    }
   ],
   "source": [
    "%matplotlib inline\n",
    "import matplotlib.pyplot as plt\n",
    "\n",
    "labels = countResultsdf['Results']\n",
    "sizes = countResultsdf['cnt']\n",
    "colors = ['yellow', 'seagreen', 'mediumslateblue', 'palegreen', 'coral', 'red', 'turquoise']\n",
    "plt.pie(sizes, labels=labels, autopct='%1.1f%%', colors=colors)\n",
    "plt.axis('equal')"
   ]
  },
  {
   "cell_type": "code",
   "execution_count": 29,
   "id": "configured-place",
   "metadata": {},
   "outputs": [],
   "source": [
    "from pyspark.sql.types import DoubleType"
   ]
  },
  {
   "cell_type": "code",
   "execution_count": 30,
   "id": "painful-peeing",
   "metadata": {},
   "outputs": [],
   "source": [
    "def labelForResults(s):\n",
    "    if s == 'Fail':\n",
    "        return 0.0\n",
    "    elif s == 'Pass w/ Conditions' or s == 'Pass':\n",
    "        return 1.0\n",
    "    else:\n",
    "        return -1.0\n",
    "label = spark.udf.register(\"labelForResults\",labelForResults, DoubleType())\n",
    "labeledData = FoodInspections.select(label(FoodInspections.Results).alias('label'), FoodInspections.Violations).where('label >= 0')"
   ]
  },
  {
   "cell_type": "code",
   "execution_count": 31,
   "id": "exterior-place",
   "metadata": {},
   "outputs": [
    {
     "name": "stdout",
     "output_type": "stream",
     "text": [
      "+-----+--------------------+\n",
      "|label|          Violations|\n",
      "+-----+--------------------+\n",
      "|  0.0|5. PROCEDURES FOR...|\n",
      "|  0.0|3. MANAGEMENT, FO...|\n",
      "|  1.0|47. FOOD & NON-FO...|\n",
      "|  1.0|55. PHYSICAL FACI...|\n",
      "|  1.0|                null|\n",
      "+-----+--------------------+\n",
      "only showing top 5 rows\n",
      "\n"
     ]
    }
   ],
   "source": [
    "labeledData.show(5)"
   ]
  },
  {
   "cell_type": "markdown",
   "id": "inclusive-massachusetts",
   "metadata": {},
   "source": [
    "### **Cleaning null values**"
   ]
  },
  {
   "cell_type": "code",
   "execution_count": 32,
   "id": "loving-belle",
   "metadata": {},
   "outputs": [],
   "source": [
    "labeledData = labeledData.na.drop()"
   ]
  },
  {
   "cell_type": "code",
   "execution_count": 33,
   "id": "textile-report",
   "metadata": {},
   "outputs": [],
   "source": [
    "TestDataset=labeledData.sample(0.2)"
   ]
  },
  {
   "cell_type": "code",
   "execution_count": 34,
   "id": "japanese-signal",
   "metadata": {},
   "outputs": [],
   "source": [
    "from pyspark.ml import Pipeline\n",
    "from pyspark.ml.classification import LogisticRegression\n",
    "from pyspark.ml.feature import HashingTF, Tokenizer"
   ]
  },
  {
   "cell_type": "code",
   "execution_count": 35,
   "id": "mighty-order",
   "metadata": {},
   "outputs": [],
   "source": [
    "tokenizer = Tokenizer(inputCol=\"Violations\", outputCol=\"words\")\n",
    "hashingTF = HashingTF(inputCol=tokenizer.getOutputCol(), outputCol=\"features\")\n",
    "lr = LogisticRegression(maxIter=10, regParam=0.01)"
   ]
  },
  {
   "cell_type": "code",
   "execution_count": 36,
   "id": "upper-meditation",
   "metadata": {},
   "outputs": [],
   "source": [
    "pipeline = Pipeline(stages=[tokenizer, hashingTF, lr])"
   ]
  },
  {
   "cell_type": "code",
   "execution_count": 37,
   "id": "attended-coach",
   "metadata": {
    "scrolled": false
   },
   "outputs": [],
   "source": [
    "model = pipeline.fit(labeledData)"
   ]
  },
  {
   "cell_type": "code",
   "execution_count": 38,
   "id": "velvet-mother",
   "metadata": {},
   "outputs": [
    {
     "data": {
      "text/plain": [
       "['label',\n",
       " 'Violations',\n",
       " 'words',\n",
       " 'features',\n",
       " 'rawPrediction',\n",
       " 'probability',\n",
       " 'prediction']"
      ]
     },
     "execution_count": 38,
     "metadata": {},
     "output_type": "execute_result"
    }
   ],
   "source": [
    "predictionsDf = model.transform(TestDataset)\n",
    "predictionsDf.registerTempTable('Predictions')\n",
    "predictionsDf.columns"
   ]
  },
  {
   "cell_type": "code",
   "execution_count": 39,
   "id": "dangerous-marketplace",
   "metadata": {},
   "outputs": [
    {
     "name": "stdout",
     "output_type": "stream",
     "text": [
      "There were 31581 inspections and there were 30974 successful predictions\n",
      "This is a 98.07795826604604% success rate\n"
     ]
    }
   ],
   "source": [
    "numSuccesses = predictionsDf.where(\"\"\"(prediction = 0 AND label = 0) OR\n",
    "                                        (prediction = 1 AND (label = 1))\"\"\").count()\n",
    "numInspections = predictionsDf.count()\n",
    "\n",
    "print(\"There were {} inspections and there were {} successful predictions\".format(numInspections,numSuccesses))\n",
    "print(\"This is a {}% success rate\".format((float(numSuccesses) / float(numInspections)) * 100))"
   ]
  },
  {
   "cell_type": "code",
   "execution_count": 40,
   "id": "smart-freedom",
   "metadata": {},
   "outputs": [],
   "source": [
    "true_positive = spark.sql(\"SELECT count(*) AS cnt FROM Predictions WHERE prediction = 1 AND label = 1\").toPandas()\n",
    "false_positive = spark.sql(\"SELECT count(*) AS cnt FROM Predictions WHERE prediction = 1 AND label = 0\").toPandas()\n",
    "true_negative = spark.sql(\"SELECT count(*) AS cnt FROM Predictions WHERE prediction = 0 AND label = 0\").toPandas()\n",
    "false_negative = spark.sql(\"SELECT count(*) AS cnt FROM Predictions WHERE prediction = 0 AND label = 1\").toPandas()"
   ]
  },
  {
   "cell_type": "code",
   "execution_count": 41,
   "id": "incident-eagle",
   "metadata": {},
   "outputs": [
    {
     "data": {
      "text/plain": [
       "(-1.1202723287351057,\n",
       " 1.1009653828180233,\n",
       " -1.1010280364650922,\n",
       " 1.1202878963166467)"
      ]
     },
     "execution_count": 41,
     "metadata": {},
     "output_type": "execute_result"
    },
    {
     "data": {
      "image/png": "[encoded data removed]",
      "text/plain": [
       "<Figure size 432x288 with 1 Axes>"
      ]
     },
     "metadata": {},
     "output_type": "display_data"
    }
   ],
   "source": [
    "%matplotlib inline\n",
    "import matplotlib.pyplot as plt\n",
    "\n",
    "labels = ['True positive', 'False positive', 'True negative', 'False negative']\n",
    "sizes = [true_positive['cnt'][0], false_positive['cnt'][0], false_negative['cnt'][0], true_negative['cnt'][0]]\n",
    "colors = ['turquoise', 'seagreen', 'mediumslateblue', 'palegreen', 'coral']\n",
    "plt.pie(sizes, labels=labels, autopct='%1.1f%%', colors=colors)\n",
    "plt.axis('equal')"
   ]
  },
  {
   "cell_type": "code",
   "execution_count": null,
   "id": "political-thriller",
   "metadata": {},
   "outputs": [],
   "source": []
  }
 ],
 "metadata": {
  "kernelspec": {
   "display_name": "Python 3",
   "language": "python",
   "name": "python3"
  },
  "language_info": {
   "codemirror_mode": {
    "name": "ipython",
    "version": 3
   },
   "file_extension": ".py",
   "mimetype": "text/x-python",
   "name": "python",
   "nbconvert_exporter": "python",
   "pygments_lexer": "ipython3",
   "version": "3.8.8"
  }
 },
 "nbformat": 4,
 "nbformat_minor": 5
}
